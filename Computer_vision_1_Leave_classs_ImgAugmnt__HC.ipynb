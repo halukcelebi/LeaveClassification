{
 "cells": [
  {
   "cell_type": "raw",
   "id": "b67a86a4",
   "metadata": {},
   "source": [
    "#Kaggle competition site: https://www.kaggle.com/competitions/classify-leaves\n",
    "\n",
    "-----------------------------------------------------------------\n",
    "There are 176 types of leaves and about 18k images. \n",
    "Unlike previuos project, in this project: \n",
    "-I agumented images 45 degrees\n",
    "to improve accuracy of CNN in this project.\n",
    "-I normalized the image arrays\n",
    "-I formatted the data set to submit to the \n",
    "competition. \n",
    "After these improvements, \n",
    "success rate increased from %94 to %97.\n"
   ]
  },
  {
   "cell_type": "code",
   "execution_count": 47,
   "id": "ec46c8cb",
   "metadata": {},
   "outputs": [],
   "source": [
    "import pandas as pd\n",
    "import numpy as np\n",
    "\n",
    "import os\n",
    "import cv2\n",
    "import matplotlib.pyplot as plt\n",
    "import tensorflow as tf\n",
    "from tensorflow import keras\n",
    "from PIL import Image\n",
    "from sklearn.model_selection import train_test_split\n",
    "from tensorflow.keras.preprocessing.image import ImageDataGenerator\n",
    "from tensorflow.keras.optimizers import Adam\n",
    "from sklearn.metrics import accuracy_score\n",
    "np.random.seed(42)\n",
    "\n",
    "from matplotlib import style\n",
    "style.use('fivethirtyeight')"
   ]
  },
  {
   "cell_type": "code",
   "execution_count": 50,
   "id": "4e0a3025",
   "metadata": {},
   "outputs": [],
   "source": [
    "df_train = pd.read_csv('train.csv')\n",
    "df_test = pd.read_csv('test.csv')"
   ]
  },
  {
   "cell_type": "code",
   "execution_count": 91,
   "id": "be545fe2",
   "metadata": {},
   "outputs": [
    {
     "data": {
      "text/html": [
       "<div>\n",
       "<style scoped>\n",
       "    .dataframe tbody tr th:only-of-type {\n",
       "        vertical-align: middle;\n",
       "    }\n",
       "\n",
       "    .dataframe tbody tr th {\n",
       "        vertical-align: top;\n",
       "    }\n",
       "\n",
       "    .dataframe thead th {\n",
       "        text-align: right;\n",
       "    }\n",
       "</style>\n",
       "<table border=\"1\" class=\"dataframe\">\n",
       "  <thead>\n",
       "    <tr style=\"text-align: right;\">\n",
       "      <th></th>\n",
       "      <th>image</th>\n",
       "    </tr>\n",
       "  </thead>\n",
       "  <tbody>\n",
       "    <tr>\n",
       "      <th>0</th>\n",
       "      <td>images/18353.jpg</td>\n",
       "    </tr>\n",
       "    <tr>\n",
       "      <th>1</th>\n",
       "      <td>images/18354.jpg</td>\n",
       "    </tr>\n",
       "    <tr>\n",
       "      <th>2</th>\n",
       "      <td>images/18355.jpg</td>\n",
       "    </tr>\n",
       "    <tr>\n",
       "      <th>3</th>\n",
       "      <td>images/18356.jpg</td>\n",
       "    </tr>\n",
       "    <tr>\n",
       "      <th>4</th>\n",
       "      <td>images/18357.jpg</td>\n",
       "    </tr>\n",
       "    <tr>\n",
       "      <th>...</th>\n",
       "      <td>...</td>\n",
       "    </tr>\n",
       "    <tr>\n",
       "      <th>8795</th>\n",
       "      <td>images/27148.jpg</td>\n",
       "    </tr>\n",
       "    <tr>\n",
       "      <th>8796</th>\n",
       "      <td>images/27149.jpg</td>\n",
       "    </tr>\n",
       "    <tr>\n",
       "      <th>8797</th>\n",
       "      <td>images/27150.jpg</td>\n",
       "    </tr>\n",
       "    <tr>\n",
       "      <th>8798</th>\n",
       "      <td>images/27151.jpg</td>\n",
       "    </tr>\n",
       "    <tr>\n",
       "      <th>8799</th>\n",
       "      <td>images/27152.jpg</td>\n",
       "    </tr>\n",
       "  </tbody>\n",
       "</table>\n",
       "<p>8800 rows × 1 columns</p>\n",
       "</div>"
      ],
      "text/plain": [
       "                 image\n",
       "0     images/18353.jpg\n",
       "1     images/18354.jpg\n",
       "2     images/18355.jpg\n",
       "3     images/18356.jpg\n",
       "4     images/18357.jpg\n",
       "...                ...\n",
       "8795  images/27148.jpg\n",
       "8796  images/27149.jpg\n",
       "8797  images/27150.jpg\n",
       "8798  images/27151.jpg\n",
       "8799  images/27152.jpg\n",
       "\n",
       "[8800 rows x 1 columns]"
      ]
     },
     "execution_count": 91,
     "metadata": {},
     "output_type": "execute_result"
    }
   ],
   "source": [
    "df_test"
   ]
  },
  {
   "cell_type": "code",
   "execution_count": 52,
   "id": "02f8ac66",
   "metadata": {},
   "outputs": [
    {
     "name": "stdout",
     "output_type": "stream",
     "text": [
      "<class 'pandas.core.frame.DataFrame'>\n",
      "RangeIndex: 18353 entries, 0 to 18352\n",
      "Data columns (total 2 columns):\n",
      " #   Column  Non-Null Count  Dtype \n",
      "---  ------  --------------  ----- \n",
      " 0   image   18353 non-null  object\n",
      " 1   label   18353 non-null  object\n",
      "dtypes: object(2)\n",
      "memory usage: 286.9+ KB\n"
     ]
    }
   ],
   "source": [
    "df_train.info()"
   ]
  },
  {
   "cell_type": "code",
   "execution_count": 53,
   "id": "f016dee7",
   "metadata": {},
   "outputs": [],
   "source": [
    "column = 'label'\n",
    "if df_train['label'].dtype == 'object' :\n",
    "    \n",
    "    #print(type(df[column]))\n",
    "    value_counts = df_train[column].value_counts()\n",
    "    num_categories = len(value_counts)\n",
    "\n",
    "    # İki alt kategorisi varsa 0 ve 1 olarak kodlayalım\n",
    "    if num_categories == 2:\n",
    "        category_mapping = {category: index for index, category in enumerate(value_counts.index)}\n",
    "        df_train['lab'] = df_train[column].map(category_mapping)\n",
    "    # İki alt kategoriden fazlaysa 1'den başlayan sıralı sayılarla kodlayalım\n",
    "    else:\n",
    "        category_mapping = {category: index + 1 for index, category in enumerate(value_counts.index)}\n",
    "        df_train['lab'] = df_train[column].map(category_mapping)"
   ]
  },
  {
   "cell_type": "code",
   "execution_count": 54,
   "id": "8556f0fa",
   "metadata": {},
   "outputs": [],
   "source": [
    "list_number = df_train['lab'].value_counts().index\n"
   ]
  },
  {
   "cell_type": "code",
   "execution_count": 55,
   "id": "818abfe8",
   "metadata": {},
   "outputs": [
    {
     "data": {
      "text/plain": [
       "Int64Index([  1,   2,   3,   4,   5,   6,   7,   8,   9,  10,\n",
       "            ...\n",
       "            167, 168, 169, 170, 171, 172, 173, 174, 175, 176],\n",
       "           dtype='int64', length=176)"
      ]
     },
     "execution_count": 55,
     "metadata": {},
     "output_type": "execute_result"
    }
   ],
   "source": [
    "list_number"
   ]
  },
  {
   "cell_type": "code",
   "execution_count": 56,
   "id": "8f0fb485",
   "metadata": {},
   "outputs": [],
   "source": [
    "value_counts=df_train['label'].value_counts().index.tolist()"
   ]
  },
  {
   "cell_type": "code",
   "execution_count": 57,
   "id": "c602a47b",
   "metadata": {},
   "outputs": [],
   "source": [
    "df_list = pd.DataFrame(value_counts, columns=['column_name'])"
   ]
  },
  {
   "cell_type": "code",
   "execution_count": 58,
   "id": "f66da1b0",
   "metadata": {},
   "outputs": [],
   "source": [
    "df_list['index'] = list_number"
   ]
  },
  {
   "cell_type": "code",
   "execution_count": 59,
   "id": "6bd7473f",
   "metadata": {},
   "outputs": [
    {
     "data": {
      "text/html": [
       "<div>\n",
       "<style scoped>\n",
       "    .dataframe tbody tr th:only-of-type {\n",
       "        vertical-align: middle;\n",
       "    }\n",
       "\n",
       "    .dataframe tbody tr th {\n",
       "        vertical-align: top;\n",
       "    }\n",
       "\n",
       "    .dataframe thead th {\n",
       "        text-align: right;\n",
       "    }\n",
       "</style>\n",
       "<table border=\"1\" class=\"dataframe\">\n",
       "  <thead>\n",
       "    <tr style=\"text-align: right;\">\n",
       "      <th></th>\n",
       "      <th>column_name</th>\n",
       "      <th>index</th>\n",
       "    </tr>\n",
       "  </thead>\n",
       "  <tbody>\n",
       "    <tr>\n",
       "      <th>0</th>\n",
       "      <td>maclura_pomifera</td>\n",
       "      <td>1</td>\n",
       "    </tr>\n",
       "    <tr>\n",
       "      <th>1</th>\n",
       "      <td>ulmus_rubra</td>\n",
       "      <td>2</td>\n",
       "    </tr>\n",
       "    <tr>\n",
       "      <th>2</th>\n",
       "      <td>prunus_virginiana</td>\n",
       "      <td>3</td>\n",
       "    </tr>\n",
       "    <tr>\n",
       "      <th>3</th>\n",
       "      <td>acer_rubrum</td>\n",
       "      <td>4</td>\n",
       "    </tr>\n",
       "    <tr>\n",
       "      <th>4</th>\n",
       "      <td>broussonettia_papyrifera</td>\n",
       "      <td>5</td>\n",
       "    </tr>\n",
       "    <tr>\n",
       "      <th>...</th>\n",
       "      <td>...</td>\n",
       "      <td>...</td>\n",
       "    </tr>\n",
       "    <tr>\n",
       "      <th>171</th>\n",
       "      <td>cedrus_deodara</td>\n",
       "      <td>172</td>\n",
       "    </tr>\n",
       "    <tr>\n",
       "      <th>172</th>\n",
       "      <td>ailanthus_altissima</td>\n",
       "      <td>173</td>\n",
       "    </tr>\n",
       "    <tr>\n",
       "      <th>173</th>\n",
       "      <td>crataegus_crus-galli</td>\n",
       "      <td>174</td>\n",
       "    </tr>\n",
       "    <tr>\n",
       "      <th>174</th>\n",
       "      <td>evodia_daniellii</td>\n",
       "      <td>175</td>\n",
       "    </tr>\n",
       "    <tr>\n",
       "      <th>175</th>\n",
       "      <td>juniperus_virginiana</td>\n",
       "      <td>176</td>\n",
       "    </tr>\n",
       "  </tbody>\n",
       "</table>\n",
       "<p>176 rows × 2 columns</p>\n",
       "</div>"
      ],
      "text/plain": [
       "                  column_name  index\n",
       "0            maclura_pomifera      1\n",
       "1                 ulmus_rubra      2\n",
       "2           prunus_virginiana      3\n",
       "3                 acer_rubrum      4\n",
       "4    broussonettia_papyrifera      5\n",
       "..                        ...    ...\n",
       "171            cedrus_deodara    172\n",
       "172       ailanthus_altissima    173\n",
       "173      crataegus_crus-galli    174\n",
       "174          evodia_daniellii    175\n",
       "175      juniperus_virginiana    176\n",
       "\n",
       "[176 rows x 2 columns]"
      ]
     },
     "execution_count": 59,
     "metadata": {},
     "output_type": "execute_result"
    }
   ],
   "source": [
    "df_list"
   ]
  },
  {
   "cell_type": "code",
   "execution_count": null,
   "id": "d03ea312",
   "metadata": {},
   "outputs": [],
   "source": []
  },
  {
   "cell_type": "code",
   "execution_count": 60,
   "id": "276f01b6",
   "metadata": {},
   "outputs": [],
   "source": [
    "images_array = []\n",
    "label = []\n",
    "str_path = \"C:/Users/haluk/Documents/AI_/Become a Pro/Leave Classification/\"\n",
    "rotate_angle = 20  # Define the rotation angle in degrees\n",
    "\n",
    "for i in range(len(df_train)):\n",
    "    path = df_train['image'].loc[i]\n",
    "    image = Image.open(str_path + path)\n",
    "    \n",
    "    # Resize the image to (60, 60)\n",
    "    resize_img = image.resize((60, 60))\n",
    "    #add image to array list\n",
    "    images_array.append(np.array(resize_img))\n",
    "    label.append(df_train['lab'].loc[i])\n",
    "        \n",
    "    \n",
    "    # Rotate the image by 45 degrees\n",
    "    #rotated_image = resize_img.rotate(rotate_angle, resample=Image.BILINEAR, expand=True)\n",
    "    resize_img_r = image.resize((80, 80))\n",
    "    rotated_image = resize_img_r.rotate(rotate_angle, resample=Image.BILINEAR, expand=True)\n",
    "    resize_img_rot = rotated_image.resize((60, 60))\n",
    "    #add image to array list\n",
    "    images_array.append(np.array(resize_img_rot))\n",
    "    label.append(df_train['lab'].loc[i])"
   ]
  },
  {
   "cell_type": "code",
   "execution_count": null,
   "id": "ecedda2e",
   "metadata": {},
   "outputs": [],
   "source": []
  },
  {
   "cell_type": "code",
   "execution_count": 61,
   "id": "20b5b476",
   "metadata": {},
   "outputs": [],
   "source": [
    "import cv2\n",
    "\n",
    "images_array_t = []\n",
    "label_t = []\n",
    "#str_path = \"C:/Users/haluk/Documents/AI_/Specialze in Data Science 21Project/New folder/\"\n",
    "str_path = \"C:/Users/haluk/Documents/AI_/Become a Pro/Leave Classification/\"\n",
    "#for path in df_train['Path']:\n",
    "for i in range(len(df_test)):\n",
    "    path = df_test['image'].loc[i]   \n",
    "    #print(path)\n",
    "    image = cv2.imread(path)\n",
    "    #print(image)\n",
    "    img_array = Image.fromarray(image,'RGB')\n",
    "    resize_img = img_array.resize((60,60))\n",
    "    images_array_t.append(np.array(resize_img))\n",
    "    #label_t.append(df_test['ClassId'].loc[i])"
   ]
  },
  {
   "cell_type": "code",
   "execution_count": 62,
   "id": "d5a449f4",
   "metadata": {},
   "outputs": [
    {
     "data": {
      "text/plain": [
       "8800"
      ]
     },
     "execution_count": 62,
     "metadata": {},
     "output_type": "execute_result"
    }
   ],
   "source": [
    "len(images_array_t)"
   ]
  },
  {
   "cell_type": "code",
   "execution_count": 63,
   "id": "4e4bbb84",
   "metadata": {},
   "outputs": [
    {
     "data": {
      "text/plain": [
       "176"
      ]
     },
     "execution_count": 63,
     "metadata": {},
     "output_type": "execute_result"
    }
   ],
   "source": [
    "## number of categories\n",
    "len(df_train['lab'].unique())"
   ]
  },
  {
   "cell_type": "code",
   "execution_count": 64,
   "id": "30ad5192",
   "metadata": {},
   "outputs": [],
   "source": [
    "#convert list to array for further processing\n",
    "# \n",
    "X = np.array(images_array)\n",
    "Y = np.array(label)\n",
    "\n",
    "X_t = np.array(images_array_t)\n",
    "#Y_t = np.array(label_t)\n"
   ]
  },
  {
   "cell_type": "code",
   "execution_count": 65,
   "id": "7b417e31",
   "metadata": {},
   "outputs": [
    {
     "data": {
      "text/plain": [
       "((36706, 60, 60, 3), (36706,))"
      ]
     },
     "execution_count": 65,
     "metadata": {},
     "output_type": "execute_result"
    }
   ],
   "source": [
    "X.shape, Y.shape"
   ]
  },
  {
   "cell_type": "code",
   "execution_count": 66,
   "id": "1fcff29a",
   "metadata": {},
   "outputs": [],
   "source": [
    "#normalization \n",
    "X = X/255;\n",
    "X_t = X_t /255;"
   ]
  },
  {
   "cell_type": "code",
   "execution_count": 67,
   "id": "f4318fa5",
   "metadata": {},
   "outputs": [],
   "source": [
    "#from tensorflow.keras.utils import to_categorical\n",
    "\n",
    "# Convert y_train to one-hot encoded format\n",
    "#Y = to_categorical(Y, num_classes=176)"
   ]
  },
  {
   "cell_type": "code",
   "execution_count": 68,
   "id": "ea2a442d",
   "metadata": {},
   "outputs": [],
   "source": [
    "# split the data set as train and test\n",
    "#from sklearn.model_selection import train_test_split\n",
    "#x_train, x_test , y_train,y_test = train_test_split(X,Y, test_size = 0.2, random_state = 42)"
   ]
  },
  {
   "cell_type": "code",
   "execution_count": 69,
   "id": "807ee205",
   "metadata": {},
   "outputs": [
    {
     "data": {
      "text/plain": [
       "'\\nimport tensorflow as tf\\nfrom sklearn.model_selection import train_test_split\\n\\n# Assuming y contains your original integer labels\\nnum_classes = 177  # Number of classes\\n\\n# Split your dataset into training and testing sets\\nx_train, x_test, y_train, y_test = train_test_split(X, Y, test_size=0.2, random_state=42)\\n\\n# One-hot encode the labels\\n\\ny_train_encoded = tf.keras.utils.to_categorical(y_train,num_classes)\\ny_test_encoded = tf.keras.utils.to_categorical(y_test,num_classes)\\n'"
      ]
     },
     "execution_count": 69,
     "metadata": {},
     "output_type": "execute_result"
    }
   ],
   "source": [
    "'''\n",
    "import tensorflow as tf\n",
    "from sklearn.model_selection import train_test_split\n",
    "\n",
    "# Assuming y contains your original integer labels\n",
    "num_classes = 177  # Number of classes\n",
    "\n",
    "# Split your dataset into training and testing sets\n",
    "x_train, x_test, y_train, y_test = train_test_split(X, Y, test_size=0.2, random_state=42)\n",
    "\n",
    "# One-hot encode the labels\n",
    "\n",
    "y_train_encoded = tf.keras.utils.to_categorical(y_train,num_classes)\n",
    "y_test_encoded = tf.keras.utils.to_categorical(y_test,num_classes)\n",
    "'''"
   ]
  },
  {
   "cell_type": "code",
   "execution_count": 76,
   "id": "9deca136",
   "metadata": {},
   "outputs": [],
   "source": [
    "num_classes = 177\n",
    "x_train = X;\n",
    "y_train_encoded = tf.keras.utils.to_categorical(Y,num_classes);\n",
    "x_test = X_t;"
   ]
  },
  {
   "cell_type": "code",
   "execution_count": 77,
   "id": "f1aacbce",
   "metadata": {},
   "outputs": [
    {
     "data": {
      "text/plain": [
       "((36706, 60, 60, 3), (36706, 177))"
      ]
     },
     "execution_count": 77,
     "metadata": {},
     "output_type": "execute_result"
    }
   ],
   "source": [
    "x_train.shape, y_train_encoded.shape"
   ]
  },
  {
   "cell_type": "code",
   "execution_count": 78,
   "id": "6a8ee79a",
   "metadata": {},
   "outputs": [],
   "source": [
    "import numpy as np\n",
    "import tensorflow as tf\n",
    "from tensorflow.keras import layers, models\n",
    "\n",
    "# Define the CNN model\n",
    "model = models.Sequential()\n",
    "\n",
    "# Convolutional layers\n",
    "# input layer size is equal to frame pixel size\n",
    "model.add(layers.Conv2D(32, (4, 4), activation='relu', input_shape=(60, 60, 3)))\n",
    "model.add(layers.MaxPooling2D((2, 2)))\n",
    "model.add(layers.Conv2D(256, (4, 4), activation='relu'))\n",
    "model.add(layers.MaxPooling2D((2, 2)))\n",
    "model.add(layers.Conv2D(200, (4, 4), activation='relu'))\n",
    "model.add(layers.MaxPooling2D((2, 2)))\n",
    "\n",
    "# Flatten the output for fully connected layers\n",
    "model.add(layers.Flatten())\n",
    "\n",
    "# Fully connected layers\n",
    "model.add(layers.Dense(264, activation='relu'))\n",
    "model.add(layers.Dense(177, activation='softmax')) "
   ]
  },
  {
   "cell_type": "code",
   "execution_count": 79,
   "id": "7af11d9d",
   "metadata": {},
   "outputs": [],
   "source": [
    "model.compile(optimizer = 'adam', loss='binary_crossentropy', metrics=['accuracy'])"
   ]
  },
  {
   "cell_type": "code",
   "execution_count": 80,
   "id": "fb2b54be",
   "metadata": {},
   "outputs": [
    {
     "name": "stdout",
     "output_type": "stream",
     "text": [
      "Epoch 1/50\n",
      "1652/1652 [==============================] - 118s 71ms/step - loss: 0.0330 - accuracy: 0.0665 - val_loss: 0.0266 - val_accuracy: 0.1373\n",
      "Epoch 2/50\n",
      "1652/1652 [==============================] - 124s 75ms/step - loss: 0.0224 - accuracy: 0.2437 - val_loss: 0.0209 - val_accuracy: 0.2800\n",
      "Epoch 3/50\n",
      "1652/1652 [==============================] - 140s 85ms/step - loss: 0.0179 - accuracy: 0.3899 - val_loss: 0.0174 - val_accuracy: 0.3977\n",
      "Epoch 4/50\n",
      "1652/1652 [==============================] - 141s 85ms/step - loss: 0.0147 - accuracy: 0.5028 - val_loss: 0.0157 - val_accuracy: 0.4751\n",
      "Epoch 5/50\n",
      "1652/1652 [==============================] - 141s 85ms/step - loss: 0.0124 - accuracy: 0.5846 - val_loss: 0.0151 - val_accuracy: 0.5086\n",
      "Epoch 6/50\n",
      "1652/1652 [==============================] - 141s 85ms/step - loss: 0.0107 - accuracy: 0.6492 - val_loss: 0.0149 - val_accuracy: 0.5203\n",
      "Epoch 7/50\n",
      "1652/1652 [==============================] - 141s 85ms/step - loss: 0.0094 - accuracy: 0.7023 - val_loss: 0.0140 - val_accuracy: 0.5647\n",
      "Epoch 8/50\n",
      "1652/1652 [==============================] - 141s 85ms/step - loss: 0.0082 - accuracy: 0.7458 - val_loss: 0.0138 - val_accuracy: 0.5870\n",
      "Epoch 9/50\n",
      "1652/1652 [==============================] - 138s 83ms/step - loss: 0.0073 - accuracy: 0.7835 - val_loss: 0.0146 - val_accuracy: 0.6015\n",
      "Epoch 10/50\n",
      "1652/1652 [==============================] - 144s 87ms/step - loss: 0.0065 - accuracy: 0.8110 - val_loss: 0.0146 - val_accuracy: 0.6050\n",
      "Epoch 11/50\n",
      "1652/1652 [==============================] - 139s 84ms/step - loss: 0.0059 - accuracy: 0.8330 - val_loss: 0.0148 - val_accuracy: 0.6186\n",
      "Epoch 12/50\n",
      "1652/1652 [==============================] - 140s 85ms/step - loss: 0.0054 - accuracy: 0.8535 - val_loss: 0.0151 - val_accuracy: 0.6246\n",
      "Epoch 13/50\n",
      "1652/1652 [==============================] - 140s 85ms/step - loss: 0.0049 - accuracy: 0.8707 - val_loss: 0.0151 - val_accuracy: 0.6328\n",
      "Epoch 14/50\n",
      "1652/1652 [==============================] - 140s 85ms/step - loss: 0.0045 - accuracy: 0.8858 - val_loss: 0.0167 - val_accuracy: 0.6224\n",
      "Epoch 15/50\n",
      "1652/1652 [==============================] - 140s 85ms/step - loss: 0.0042 - accuracy: 0.8961 - val_loss: 0.0173 - val_accuracy: 0.6328\n",
      "Epoch 16/50\n",
      "1652/1652 [==============================] - 139s 84ms/step - loss: 0.0038 - accuracy: 0.9105 - val_loss: 0.0179 - val_accuracy: 0.6222\n",
      "Epoch 17/50\n",
      "1652/1652 [==============================] - 139s 84ms/step - loss: 0.0037 - accuracy: 0.9134 - val_loss: 0.0177 - val_accuracy: 0.6366\n",
      "Epoch 18/50\n",
      "1652/1652 [==============================] - 141s 86ms/step - loss: 0.0034 - accuracy: 0.9220 - val_loss: 0.0187 - val_accuracy: 0.6497\n",
      "Epoch 19/50\n",
      "1652/1652 [==============================] - 141s 85ms/step - loss: 0.0031 - accuracy: 0.9326 - val_loss: 0.0204 - val_accuracy: 0.6249\n",
      "Epoch 20/50\n",
      "1652/1652 [==============================] - 140s 85ms/step - loss: 0.0031 - accuracy: 0.9330 - val_loss: 0.0197 - val_accuracy: 0.6382\n",
      "Epoch 21/50\n",
      "1652/1652 [==============================] - 139s 84ms/step - loss: 0.0029 - accuracy: 0.9399 - val_loss: 0.0213 - val_accuracy: 0.6402\n",
      "Epoch 22/50\n",
      "1652/1652 [==============================] - 139s 84ms/step - loss: 0.0029 - accuracy: 0.9415 - val_loss: 0.0214 - val_accuracy: 0.6385\n",
      "Epoch 23/50\n",
      "1652/1652 [==============================] - 140s 85ms/step - loss: 0.0028 - accuracy: 0.9449 - val_loss: 0.0234 - val_accuracy: 0.6314\n",
      "Epoch 24/50\n",
      "1652/1652 [==============================] - 140s 85ms/step - loss: 0.0026 - accuracy: 0.9494 - val_loss: 0.0237 - val_accuracy: 0.6456\n",
      "Epoch 25/50\n",
      "1652/1652 [==============================] - 140s 85ms/step - loss: 0.0025 - accuracy: 0.9533 - val_loss: 0.0256 - val_accuracy: 0.6336\n",
      "Epoch 26/50\n",
      "1652/1652 [==============================] - 139s 84ms/step - loss: 0.0024 - accuracy: 0.9552 - val_loss: 0.0247 - val_accuracy: 0.6399\n",
      "Epoch 27/50\n",
      "1652/1652 [==============================] - 140s 85ms/step - loss: 0.0025 - accuracy: 0.9535 - val_loss: 0.0266 - val_accuracy: 0.6314\n",
      "Epoch 28/50\n",
      "1652/1652 [==============================] - 136s 82ms/step - loss: 0.0023 - accuracy: 0.9601 - val_loss: 0.0255 - val_accuracy: 0.6140\n",
      "Epoch 29/50\n",
      "1652/1652 [==============================] - 137s 83ms/step - loss: 0.0023 - accuracy: 0.9585 - val_loss: 0.0267 - val_accuracy: 0.6344\n",
      "Epoch 30/50\n",
      "1652/1652 [==============================] - 148s 90ms/step - loss: 0.0022 - accuracy: 0.9613 - val_loss: 0.0295 - val_accuracy: 0.6235\n",
      "Epoch 31/50\n",
      "1652/1652 [==============================] - 155s 94ms/step - loss: 0.0022 - accuracy: 0.9638 - val_loss: 0.0278 - val_accuracy: 0.6303\n",
      "Epoch 32/50\n",
      "1652/1652 [==============================] - 154s 93ms/step - loss: 0.0021 - accuracy: 0.9636 - val_loss: 0.0281 - val_accuracy: 0.6314\n",
      "Epoch 33/50\n",
      "1652/1652 [==============================] - 155s 94ms/step - loss: 0.0021 - accuracy: 0.9657 - val_loss: 0.0275 - val_accuracy: 0.6467\n",
      "Epoch 34/50\n",
      "1652/1652 [==============================] - 149s 90ms/step - loss: 0.0021 - accuracy: 0.9662 - val_loss: 0.0292 - val_accuracy: 0.6380\n",
      "Epoch 35/50\n",
      "1652/1652 [==============================] - 151s 91ms/step - loss: 0.0020 - accuracy: 0.9683 - val_loss: 0.0297 - val_accuracy: 0.6513\n",
      "Epoch 36/50\n",
      "1652/1652 [==============================] - 153s 93ms/step - loss: 0.0021 - accuracy: 0.9670 - val_loss: 0.0314 - val_accuracy: 0.6388\n",
      "Epoch 37/50\n",
      "1652/1652 [==============================] - 154s 93ms/step - loss: 0.0019 - accuracy: 0.9688 - val_loss: 0.0312 - val_accuracy: 0.6361\n",
      "Epoch 38/50\n",
      "1652/1652 [==============================] - 158s 96ms/step - loss: 0.0020 - accuracy: 0.9702 - val_loss: 0.0323 - val_accuracy: 0.6298\n",
      "Epoch 39/50\n",
      "1652/1652 [==============================] - 168s 102ms/step - loss: 0.0020 - accuracy: 0.9695 - val_loss: 0.0326 - val_accuracy: 0.6306\n",
      "Epoch 40/50\n",
      "1652/1652 [==============================] - 154s 93ms/step - loss: 0.0019 - accuracy: 0.9704 - val_loss: 0.0344 - val_accuracy: 0.6380\n",
      "Epoch 41/50\n",
      "1652/1652 [==============================] - 158s 95ms/step - loss: 0.0019 - accuracy: 0.9733 - val_loss: 0.0324 - val_accuracy: 0.6393\n",
      "Epoch 42/50\n",
      "1652/1652 [==============================] - 148s 89ms/step - loss: 0.0018 - accuracy: 0.9738 - val_loss: 0.0347 - val_accuracy: 0.6388\n",
      "Epoch 43/50\n",
      "1652/1652 [==============================] - 153s 93ms/step - loss: 0.0019 - accuracy: 0.9736 - val_loss: 0.0359 - val_accuracy: 0.6333\n",
      "Epoch 44/50\n",
      "1652/1652 [==============================] - 156s 94ms/step - loss: 0.0019 - accuracy: 0.9729 - val_loss: 0.0349 - val_accuracy: 0.6235\n",
      "Epoch 45/50\n",
      "1652/1652 [==============================] - 157s 95ms/step - loss: 0.0018 - accuracy: 0.9741 - val_loss: 0.0369 - val_accuracy: 0.6208\n",
      "Epoch 46/50\n",
      "1652/1652 [==============================] - 148s 89ms/step - loss: 0.0019 - accuracy: 0.9735 - val_loss: 0.0344 - val_accuracy: 0.6361\n",
      "Epoch 47/50\n",
      "1652/1652 [==============================] - 145s 88ms/step - loss: 0.0017 - accuracy: 0.9761 - val_loss: 0.0387 - val_accuracy: 0.6235\n",
      "Epoch 48/50\n",
      "1652/1652 [==============================] - 144s 87ms/step - loss: 0.0018 - accuracy: 0.9741 - val_loss: 0.0372 - val_accuracy: 0.6268\n",
      "Epoch 49/50\n",
      "1652/1652 [==============================] - 145s 88ms/step - loss: 0.0017 - accuracy: 0.9764 - val_loss: 0.0381 - val_accuracy: 0.6309\n",
      "Epoch 50/50\n",
      "1652/1652 [==============================] - 144s 87ms/step - loss: 0.0019 - accuracy: 0.9743 - val_loss: 0.0389 - val_accuracy: 0.6290\n"
     ]
    }
   ],
   "source": [
    "history = model.fit(x_train, y_train_encoded, batch_size=20, epochs=50, validation_split=0.1)"
   ]
  },
  {
   "cell_type": "code",
   "execution_count": 81,
   "id": "2e2b6fdc",
   "metadata": {},
   "outputs": [
    {
     "name": "stdout",
     "output_type": "stream",
     "text": [
      "275/275 [==============================] - 7s 26ms/step\n"
     ]
    }
   ],
   "source": [
    "prediction = model.predict(x_test)"
   ]
  },
  {
   "cell_type": "code",
   "execution_count": 82,
   "id": "10e64505",
   "metadata": {},
   "outputs": [
    {
     "data": {
      "text/plain": [
       "(8800, 177)"
      ]
     },
     "execution_count": 82,
     "metadata": {},
     "output_type": "execute_result"
    }
   ],
   "source": [
    "prediction.shape"
   ]
  },
  {
   "cell_type": "code",
   "execution_count": 89,
   "id": "d58f5969",
   "metadata": {},
   "outputs": [],
   "source": [
    "pre_indx  = []\n",
    "leave_type = []\n",
    "for pr in prediction :\n",
    "    pre_indx.append( np.argmax(pr))\n",
    "    leave_type.append( df_list.at[int(np.argmax(pr))-1, 'column_name'] )\n",
    "    \n",
    "    "
   ]
  },
  {
   "cell_type": "code",
   "execution_count": 92,
   "id": "1e5b12c3",
   "metadata": {},
   "outputs": [],
   "source": [
    "df_test['label'] = leave_type"
   ]
  },
  {
   "cell_type": "code",
   "execution_count": 93,
   "id": "a1936674",
   "metadata": {},
   "outputs": [
    {
     "data": {
      "text/html": [
       "<div>\n",
       "<style scoped>\n",
       "    .dataframe tbody tr th:only-of-type {\n",
       "        vertical-align: middle;\n",
       "    }\n",
       "\n",
       "    .dataframe tbody tr th {\n",
       "        vertical-align: top;\n",
       "    }\n",
       "\n",
       "    .dataframe thead th {\n",
       "        text-align: right;\n",
       "    }\n",
       "</style>\n",
       "<table border=\"1\" class=\"dataframe\">\n",
       "  <thead>\n",
       "    <tr style=\"text-align: right;\">\n",
       "      <th></th>\n",
       "      <th>image</th>\n",
       "      <th>label</th>\n",
       "    </tr>\n",
       "  </thead>\n",
       "  <tbody>\n",
       "    <tr>\n",
       "      <th>0</th>\n",
       "      <td>images/18353.jpg</td>\n",
       "      <td>quercus_phellos</td>\n",
       "    </tr>\n",
       "    <tr>\n",
       "      <th>1</th>\n",
       "      <td>images/18354.jpg</td>\n",
       "      <td>prunus_virginiana</td>\n",
       "    </tr>\n",
       "    <tr>\n",
       "      <th>2</th>\n",
       "      <td>images/18355.jpg</td>\n",
       "      <td>quercus_velutina</td>\n",
       "    </tr>\n",
       "    <tr>\n",
       "      <th>3</th>\n",
       "      <td>images/18356.jpg</td>\n",
       "      <td>pinus_bungeana</td>\n",
       "    </tr>\n",
       "    <tr>\n",
       "      <th>4</th>\n",
       "      <td>images/18357.jpg</td>\n",
       "      <td>prunus_sargentii</td>\n",
       "    </tr>\n",
       "    <tr>\n",
       "      <th>...</th>\n",
       "      <td>...</td>\n",
       "      <td>...</td>\n",
       "    </tr>\n",
       "    <tr>\n",
       "      <th>8795</th>\n",
       "      <td>images/27148.jpg</td>\n",
       "      <td>pinus_resinosa</td>\n",
       "    </tr>\n",
       "    <tr>\n",
       "      <th>8796</th>\n",
       "      <td>images/27149.jpg</td>\n",
       "      <td>ilex_opaca</td>\n",
       "    </tr>\n",
       "    <tr>\n",
       "      <th>8797</th>\n",
       "      <td>images/27150.jpg</td>\n",
       "      <td>pinus_resinosa</td>\n",
       "    </tr>\n",
       "    <tr>\n",
       "      <th>8798</th>\n",
       "      <td>images/27151.jpg</td>\n",
       "      <td>juniperus_virginiana</td>\n",
       "    </tr>\n",
       "    <tr>\n",
       "      <th>8799</th>\n",
       "      <td>images/27152.jpg</td>\n",
       "      <td>carya_tomentosa</td>\n",
       "    </tr>\n",
       "  </tbody>\n",
       "</table>\n",
       "<p>8800 rows × 2 columns</p>\n",
       "</div>"
      ],
      "text/plain": [
       "                 image                 label\n",
       "0     images/18353.jpg       quercus_phellos\n",
       "1     images/18354.jpg     prunus_virginiana\n",
       "2     images/18355.jpg      quercus_velutina\n",
       "3     images/18356.jpg        pinus_bungeana\n",
       "4     images/18357.jpg      prunus_sargentii\n",
       "...                ...                   ...\n",
       "8795  images/27148.jpg        pinus_resinosa\n",
       "8796  images/27149.jpg            ilex_opaca\n",
       "8797  images/27150.jpg        pinus_resinosa\n",
       "8798  images/27151.jpg  juniperus_virginiana\n",
       "8799  images/27152.jpg       carya_tomentosa\n",
       "\n",
       "[8800 rows x 2 columns]"
      ]
     },
     "execution_count": 93,
     "metadata": {},
     "output_type": "execute_result"
    }
   ],
   "source": [
    "df_test"
   ]
  },
  {
   "cell_type": "code",
   "execution_count": 94,
   "id": "827d0fae",
   "metadata": {},
   "outputs": [],
   "source": [
    "df_test.to_csv(\"submit_set.csv\",index=False)"
   ]
  },
  {
   "cell_type": "code",
   "execution_count": null,
   "id": "f95d29b6",
   "metadata": {},
   "outputs": [],
   "source": []
  }
 ],
 "metadata": {
  "kernelspec": {
   "display_name": "Python 3 (ipykernel)",
   "language": "python",
   "name": "python3"
  },
  "language_info": {
   "codemirror_mode": {
    "name": "ipython",
    "version": 3
   },
   "file_extension": ".py",
   "mimetype": "text/x-python",
   "name": "python",
   "nbconvert_exporter": "python",
   "pygments_lexer": "ipython3",
   "version": "3.11.5"
  }
 },
 "nbformat": 4,
 "nbformat_minor": 5
}
